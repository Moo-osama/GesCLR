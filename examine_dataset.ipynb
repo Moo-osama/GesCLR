{
 "cells": [
  {
   "cell_type": "code",
   "execution_count": 6,
   "metadata": {},
   "outputs": [],
   "source": [
    "import pickle\n",
    "\n",
    "with open('k400_hrnet.pkl', 'rb') as f:\n",
    "    x = pickle.load(f)"
   ]
  },
  {
   "cell_type": "code",
   "execution_count": 7,
   "metadata": {},
   "outputs": [
    {
     "data": {
      "text/plain": [
       "{'label': 234,\n",
       " 'frame_dir': 'avd-_a-D7Ck',\n",
       " 'img_shape': (320, 568),\n",
       " 'original_shape': (320, 568),\n",
       " 'frame_inds': array([  1,   1,   1, ..., 300, 300, 300], dtype=int16),\n",
       " 'box_score': array([0.9614, 0.9956, 0.9707, ..., 0.9985, 0.7163, 0.715 ], dtype=float16),\n",
       " 'total_frames': 300,\n",
       " 'valid': {0.5: 300, 0.6: 300, 0.7: 300, 0.8: 300, 0.9: 300},\n",
       " 'raw_file': 'kp_av.pkl'}"
      ]
     },
     "execution_count": 7,
     "metadata": {},
     "output_type": "execute_result"
    }
   ],
   "source": [
    "x['annotations'][0]"
   ]
  },
  {
   "cell_type": "code",
   "execution_count": 3,
   "metadata": {},
   "outputs": [],
   "source": [
    "for item in x['annotations']:\n",
    "    item['raw_file'] = item['raw_file'].split('/')[-1]\n"
   ]
  },
  {
   "cell_type": "code",
   "execution_count": 5,
   "metadata": {},
   "outputs": [],
   "source": [
    "with open('k400_hrnet.pkl', 'wb') as handle:\n",
    "    pickle.dump(x, handle, protocol=pickle.HIGHEST_PROTOCOL)"
   ]
  },
  {
   "cell_type": "code",
   "execution_count": 1,
   "metadata": {},
   "outputs": [
    {
     "data": {
      "text/plain": [
       "dict_keys(['A8mPQb9t4Z8', 'A80U1rMaeWE', 'A8bEsF3JnTU', 'A8w6AdTQetQ', 'A8LTxJgRKbA', 'A865YikiKjY', 'A8AmqP62Drc', 'A8oSXI605UQ', 'A8AOjHX8T6Y', 'A84y8tl1eaA', 'A8vYwE9IO-Y', 'A8qozQJMD6A', 'A8Y_XbDKSPs', 'A8IpW0ErtN0', 'A8rXwcLOaO0', 'A8NAj6NQ5vM', 'A8mg7YmQrnc', 'A8nnPsAwz3k', 'A8nqtcY_9bo', 'A808QjCJw20', 'A8QgVyFcLcU', 'A82gcFvSC1w', 'A8ELs7XacK4', 'A8WxqlB_yUs', 'A8ceHmOwEr0', 'A8VfWSdgrIc', 'A8jmSPUYUfM', 'A8y4ChhIQa0', 'A8z7FV3niN8', 'A8VulkexrSg', 'A8sD9I-l2yg', 'A8W9CjHFHyk', 'A8FWl7y6gVA', 'A8a-W5nAOUw', 'A8soiGkEJEg', 'A8wjsOpUrEE', 'A85SjzBCr5Y', 'A8j3w3OWe4c', 'A8O2qab4w4U', 'A8tN_Mn-UHw', 'A8Ofeqspyvc', 'A8c2fWVBm1o', 'A8jKo4cUxlM', 'A8dcCKBDQjo', 'A8SWnqv9u5c', 'A82abMNY0t8', 'A8Ebb1KqEWE', 'A8OndzmaMzQ', 'A8AXlyqBfW0', 'A8cdmS_5EaY', 'A8GKDao4b-w', 'A8NDa5KNtPw', 'A8726TAOJ5M', 'A8xwPL7osV4', 'A8nVkKSy1bo', 'A8xEIs1RQJs', 'A8aecRuEtXg', 'A8n6iTJ9ADk', 'A8uImEhZttQ', 'A8D0YxatEh0', 'A8VVFTrE6iQ', 'A8rPK1Ivl14', 'A8DgyJJXV0I', 'A81NcCk5rDU', 'A8TIWMvJVDU', 'A8cww8TH4l8', 'A8sjbCSzUow', 'A89pWKqmcPE', 'A8HHXIcXAVU', 'A89AWO07yyE', 'A826wxc08tk'])"
      ]
     },
     "execution_count": 1,
     "metadata": {},
     "output_type": "execute_result"
    }
   ],
   "source": [
    "import pickle\n",
    "\n",
    "with open('/data/os/kpfiles/kp_A8.pkl', 'rb') as f:\n",
    "    x = pickle.load(f)\n",
    "\n",
    "x.keys()"
   ]
  },
  {
   "cell_type": "code",
   "execution_count": 3,
   "metadata": {},
   "outputs": [
    {
     "data": {
      "text/plain": [
       "array([[[ 5.2650e+02,  2.2638e+02,  2.2998e-01],\n",
       "        [ 5.5050e+02,  2.9325e+02,  4.8523e-02],\n",
       "        [ 5.6900e+02,  3.0550e+02,  4.5166e-02],\n",
       "        ...,\n",
       "        [ 3.5000e+02,  1.4125e+02,  1.4209e-01],\n",
       "        [ 1.7362e+02,  1.5950e+02,  8.1055e-02],\n",
       "        [ 4.1075e+02,  2.8725e+02,  1.2457e-01]],\n",
       "\n",
       "       [[ 2.2925e+02,  3.7125e+01,  4.6631e-01],\n",
       "        [ 2.5138e+02,  2.8281e+01,  4.5752e-01],\n",
       "        [ 2.0275e+02,  1.0625e+01,  5.4785e-01],\n",
       "        ...,\n",
       "        [ 2.1797e+01,  1.7838e+02,  1.2659e-01],\n",
       "        [ 1.8950e+02,  1.0331e+02,  1.2610e-01],\n",
       "        [ 1.9400e+02,  1.0331e+02,  2.0947e-01]],\n",
       "\n",
       "       [[ 2.2512e+02,  4.5500e+01,  2.6245e-01],\n",
       "        [ 2.3900e+02,  2.8125e+01,  2.4414e-01],\n",
       "        [ 2.0088e+02,  2.4656e+01,  3.4619e-01],\n",
       "        ...,\n",
       "        [ 2.6984e+01,  1.7412e+02,  1.1938e-01],\n",
       "        [ 1.8338e+02,  1.1850e+02,  9.4971e-02],\n",
       "        [ 1.5562e+02,  1.6025e+02,  6.9580e-02]],\n",
       "\n",
       "       ...,\n",
       "\n",
       "       [[ 3.4300e+02,  1.3575e+02,  1.9580e-01],\n",
       "        [ 2.8600e+02,  1.0444e+02,  5.3284e-02],\n",
       "        [ 2.8600e+02,  1.1012e+02,  1.3037e-01],\n",
       "        ...,\n",
       "        [ 3.5175e+02,  1.3862e+02,  5.0568e-02],\n",
       "        [ 4.2850e+02,  1.0444e+02,  1.0187e-01],\n",
       "        [ 4.2850e+02,  1.0725e+02,  7.9224e-02]],\n",
       "\n",
       "       [[ 3.7425e+02,  3.2531e+01,  5.8350e-01],\n",
       "        [ 4.6225e+02, -6.5688e+01,  3.2898e-02],\n",
       "        [ 3.1225e+02, -1.0188e+02,  6.3110e-02],\n",
       "        ...,\n",
       "        [ 1.1838e+02,  1.4362e+02,  6.2500e-02],\n",
       "        [ 3.5350e+02,  2.9625e+02,  1.4209e-01],\n",
       "        [ 3.7950e+02,  3.0125e+02,  1.2671e-01]],\n",
       "\n",
       "       [[ 3.6175e+02,  1.7547e+01,  8.1201e-01],\n",
       "        [ 4.7200e+02,  2.4906e+01,  1.2384e-01],\n",
       "        [ 3.2500e+02, -3.3969e+01,  7.8552e-02],\n",
       "        ...,\n",
       "        [ 8.9562e+01,  1.5000e+02,  2.8906e-01],\n",
       "        [ 1.6312e+02,  2.8975e+02,  1.1151e-01],\n",
       "        [ 1.1900e+02,  3.3400e+02,  1.0278e-01]]], dtype=float16)"
      ]
     },
     "execution_count": 3,
     "metadata": {},
     "output_type": "execute_result"
    }
   ],
   "source": [
    "x['A8mPQb9t4Z8']['keypoint']"
   ]
  },
  {
   "cell_type": "code",
   "execution_count": null,
   "metadata": {},
   "outputs": [],
   "source": []
  }
 ],
 "metadata": {
  "kernelspec": {
   "display_name": "ar",
   "language": "python",
   "name": "python3"
  },
  "language_info": {
   "codemirror_mode": {
    "name": "ipython",
    "version": 3
   },
   "file_extension": ".py",
   "mimetype": "text/x-python",
   "name": "python",
   "nbconvert_exporter": "python",
   "pygments_lexer": "ipython3",
   "version": "3.9.16"
  },
  "orig_nbformat": 4
 },
 "nbformat": 4,
 "nbformat_minor": 2
}
